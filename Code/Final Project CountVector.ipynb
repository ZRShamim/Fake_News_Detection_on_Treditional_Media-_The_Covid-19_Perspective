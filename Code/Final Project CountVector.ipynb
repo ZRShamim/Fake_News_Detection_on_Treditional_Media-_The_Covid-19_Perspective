{
 "cells": [
  {
   "cell_type": "markdown",
   "metadata": {},
   "source": [
    "# Importing Libaries\n"
   ]
  },
  {
   "cell_type": "code",
   "execution_count": 1,
   "metadata": {},
   "outputs": [],
   "source": [
    "import pandas as pd\n",
    "import numpy as np\n",
    "import matplotlib.pyplot as plt\n",
    "from sklearn.metrics import classification_report\n",
    "from sklearn import metrics\n",
    "import itertools\n",
    "from sklearn.feature_extraction.text import CountVectorizer"
   ]
  },
  {
   "cell_type": "markdown",
   "metadata": {},
   "source": [
    "# Loading Data"
   ]
  },
  {
   "cell_type": "code",
   "execution_count": 2,
   "metadata": {},
   "outputs": [],
   "source": [
    "#df=pd.read_csv('C:\\\\Users\\\\User\\\\dataset4-800.csv')\n",
    "#df=pd.read_csv('C:\\\\Users\\\\User\\\\dataset3-500.csv')\n",
    "#df=pd.read_csv('C:\\\\Users\\\\User\\\\dataset2-400.csv')\n",
    "df=pd.read_csv('C:\\\\Users\\\\User\\\\dataset1-350.csv')\n",
    "#df=pd.read_csv('C:\\\\Users\\\\User\\\\Kaggle400TEST.csv')\n",
    "#df=pd.read_csv('C:\\\\Users\\\\User\\\\kaggle.csv')"
   ]
  },
  {
   "cell_type": "code",
   "execution_count": 3,
   "metadata": {},
   "outputs": [
    {
     "data": {
      "text/html": [
       "<div>\n",
       "<style scoped>\n",
       "    .dataframe tbody tr th:only-of-type {\n",
       "        vertical-align: middle;\n",
       "    }\n",
       "\n",
       "    .dataframe tbody tr th {\n",
       "        vertical-align: top;\n",
       "    }\n",
       "\n",
       "    .dataframe thead th {\n",
       "        text-align: right;\n",
       "    }\n",
       "</style>\n",
       "<table border=\"1\" class=\"dataframe\">\n",
       "  <thead>\n",
       "    <tr style=\"text-align: right;\">\n",
       "      <th></th>\n",
       "      <th>sl no</th>\n",
       "      <th>headline</th>\n",
       "      <th>body</th>\n",
       "      <th>label</th>\n",
       "    </tr>\n",
       "  </thead>\n",
       "  <tbody>\n",
       "    <tr>\n",
       "      <th>0</th>\n",
       "      <td>1</td>\n",
       "      <td>Concern over rapid rise in COVID-19 cases in S...</td>\n",
       "      <td>There is growing concern that South Africa's h...</td>\n",
       "      <td>1</td>\n",
       "    </tr>\n",
       "    <tr>\n",
       "      <th>1</th>\n",
       "      <td>2</td>\n",
       "      <td>NBA to Trump: Resign or We’ll Never Play Again...</td>\n",
       "      <td>The National Basketball Association recently s...</td>\n",
       "      <td>0</td>\n",
       "    </tr>\n",
       "    <tr>\n",
       "      <th>2</th>\n",
       "      <td>3</td>\n",
       "      <td>COVID-19 No Vaccine Needed, There Is Already A...</td>\n",
       "      <td>Dr. Richard Bartlett, a Dallas MD who previous...</td>\n",
       "      <td>0</td>\n",
       "    </tr>\n",
       "    <tr>\n",
       "      <th>3</th>\n",
       "      <td>4</td>\n",
       "      <td>USA Presidential Candidate Joe Biden Tests Pos...</td>\n",
       "      <td>Joe Biden, the Democratic presidential candida...</td>\n",
       "      <td>0</td>\n",
       "    </tr>\n",
       "    <tr>\n",
       "      <th>4</th>\n",
       "      <td>5</td>\n",
       "      <td>All Test Subjects of Bill Gates’ Vaccine Ended...</td>\n",
       "      <td>What could possibly go wrong with fast-trackin...</td>\n",
       "      <td>0</td>\n",
       "    </tr>\n",
       "    <tr>\n",
       "      <th>5</th>\n",
       "      <td>6</td>\n",
       "      <td>Cameroon: When Covid-19 Sways Cash-Strapped Ca...</td>\n",
       "      <td>Prior to the onset of the coronavirus pandemic...</td>\n",
       "      <td>1</td>\n",
       "    </tr>\n",
       "    <tr>\n",
       "      <th>6</th>\n",
       "      <td>7</td>\n",
       "      <td>BREAKING: Coronavirus Hits 15% Fatality Rate, ...</td>\n",
       "      <td>BREAKING: The U.S. news media is currently run...</td>\n",
       "      <td>0</td>\n",
       "    </tr>\n",
       "    <tr>\n",
       "      <th>7</th>\n",
       "      <td>8</td>\n",
       "      <td>Coronavirus in Scotland: Peterhead primary clo...</td>\n",
       "      <td>NHS Grampian said it was working to identify c...</td>\n",
       "      <td>1</td>\n",
       "    </tr>\n",
       "    <tr>\n",
       "      <th>8</th>\n",
       "      <td>9</td>\n",
       "      <td>Indonesia deploys 83,566 police, army personne...</td>\n",
       "      <td>Indonesia has deployed 83,566 police and army ...</td>\n",
       "      <td>1</td>\n",
       "    </tr>\n",
       "    <tr>\n",
       "      <th>9</th>\n",
       "      <td>10</td>\n",
       "      <td>New Evidence Shows Wearing Face Mask Can Help ...</td>\n",
       "      <td>Dr. Russell Blaylock, a retired U.S. neurosurg...</td>\n",
       "      <td>0</td>\n",
       "    </tr>\n",
       "  </tbody>\n",
       "</table>\n",
       "</div>"
      ],
      "text/plain": [
       "   sl no                                           headline  \\\n",
       "0      1  Concern over rapid rise in COVID-19 cases in S...   \n",
       "1      2  NBA to Trump: Resign or We’ll Never Play Again...   \n",
       "2      3  COVID-19 No Vaccine Needed, There Is Already A...   \n",
       "3      4  USA Presidential Candidate Joe Biden Tests Pos...   \n",
       "4      5  All Test Subjects of Bill Gates’ Vaccine Ended...   \n",
       "5      6  Cameroon: When Covid-19 Sways Cash-Strapped Ca...   \n",
       "6      7  BREAKING: Coronavirus Hits 15% Fatality Rate, ...   \n",
       "7      8  Coronavirus in Scotland: Peterhead primary clo...   \n",
       "8      9  Indonesia deploys 83,566 police, army personne...   \n",
       "9     10  New Evidence Shows Wearing Face Mask Can Help ...   \n",
       "\n",
       "                                                body  label  \n",
       "0  There is growing concern that South Africa's h...      1  \n",
       "1  The National Basketball Association recently s...      0  \n",
       "2  Dr. Richard Bartlett, a Dallas MD who previous...      0  \n",
       "3  Joe Biden, the Democratic presidential candida...      0  \n",
       "4  What could possibly go wrong with fast-trackin...      0  \n",
       "5  Prior to the onset of the coronavirus pandemic...      1  \n",
       "6  BREAKING: The U.S. news media is currently run...      0  \n",
       "7  NHS Grampian said it was working to identify c...      1  \n",
       "8  Indonesia has deployed 83,566 police and army ...      1  \n",
       "9  Dr. Russell Blaylock, a retired U.S. neurosurg...      0  "
      ]
     },
     "execution_count": 3,
     "metadata": {},
     "output_type": "execute_result"
    }
   ],
   "source": [
    "df.head(10)"
   ]
  },
  {
   "cell_type": "code",
   "execution_count": 4,
   "metadata": {},
   "outputs": [],
   "source": [
    "X=df.drop('label',axis=1)"
   ]
  },
  {
   "cell_type": "code",
   "execution_count": 5,
   "metadata": {},
   "outputs": [
    {
     "data": {
      "text/html": [
       "<div>\n",
       "<style scoped>\n",
       "    .dataframe tbody tr th:only-of-type {\n",
       "        vertical-align: middle;\n",
       "    }\n",
       "\n",
       "    .dataframe tbody tr th {\n",
       "        vertical-align: top;\n",
       "    }\n",
       "\n",
       "    .dataframe thead th {\n",
       "        text-align: right;\n",
       "    }\n",
       "</style>\n",
       "<table border=\"1\" class=\"dataframe\">\n",
       "  <thead>\n",
       "    <tr style=\"text-align: right;\">\n",
       "      <th></th>\n",
       "      <th>sl no</th>\n",
       "      <th>headline</th>\n",
       "      <th>body</th>\n",
       "    </tr>\n",
       "  </thead>\n",
       "  <tbody>\n",
       "    <tr>\n",
       "      <th>0</th>\n",
       "      <td>1</td>\n",
       "      <td>Concern over rapid rise in COVID-19 cases in S...</td>\n",
       "      <td>There is growing concern that South Africa's h...</td>\n",
       "    </tr>\n",
       "    <tr>\n",
       "      <th>1</th>\n",
       "      <td>2</td>\n",
       "      <td>NBA to Trump: Resign or We’ll Never Play Again...</td>\n",
       "      <td>The National Basketball Association recently s...</td>\n",
       "    </tr>\n",
       "    <tr>\n",
       "      <th>2</th>\n",
       "      <td>3</td>\n",
       "      <td>COVID-19 No Vaccine Needed, There Is Already A...</td>\n",
       "      <td>Dr. Richard Bartlett, a Dallas MD who previous...</td>\n",
       "    </tr>\n",
       "    <tr>\n",
       "      <th>3</th>\n",
       "      <td>4</td>\n",
       "      <td>USA Presidential Candidate Joe Biden Tests Pos...</td>\n",
       "      <td>Joe Biden, the Democratic presidential candida...</td>\n",
       "    </tr>\n",
       "    <tr>\n",
       "      <th>4</th>\n",
       "      <td>5</td>\n",
       "      <td>All Test Subjects of Bill Gates’ Vaccine Ended...</td>\n",
       "      <td>What could possibly go wrong with fast-trackin...</td>\n",
       "    </tr>\n",
       "  </tbody>\n",
       "</table>\n",
       "</div>"
      ],
      "text/plain": [
       "   sl no                                           headline  \\\n",
       "0      1  Concern over rapid rise in COVID-19 cases in S...   \n",
       "1      2  NBA to Trump: Resign or We’ll Never Play Again...   \n",
       "2      3  COVID-19 No Vaccine Needed, There Is Already A...   \n",
       "3      4  USA Presidential Candidate Joe Biden Tests Pos...   \n",
       "4      5  All Test Subjects of Bill Gates’ Vaccine Ended...   \n",
       "\n",
       "                                                body  \n",
       "0  There is growing concern that South Africa's h...  \n",
       "1  The National Basketball Association recently s...  \n",
       "2  Dr. Richard Bartlett, a Dallas MD who previous...  \n",
       "3  Joe Biden, the Democratic presidential candida...  \n",
       "4  What could possibly go wrong with fast-trackin...  "
      ]
     },
     "execution_count": 5,
     "metadata": {},
     "output_type": "execute_result"
    }
   ],
   "source": [
    "X.head()"
   ]
  },
  {
   "cell_type": "code",
   "execution_count": 6,
   "metadata": {},
   "outputs": [],
   "source": [
    "y=df['label']"
   ]
  },
  {
   "cell_type": "code",
   "execution_count": 7,
   "metadata": {},
   "outputs": [
    {
     "data": {
      "text/plain": [
       "(350,)"
      ]
     },
     "execution_count": 7,
     "metadata": {},
     "output_type": "execute_result"
    }
   ],
   "source": [
    "y.shape"
   ]
  },
  {
   "cell_type": "code",
   "execution_count": 8,
   "metadata": {},
   "outputs": [
    {
     "data": {
      "text/plain": [
       "<bound method NDFrame.head of 0      1\n",
       "1      0\n",
       "2      0\n",
       "3      0\n",
       "4      0\n",
       "      ..\n",
       "345    1\n",
       "346    0\n",
       "347    1\n",
       "348    0\n",
       "349    0\n",
       "Name: label, Length: 350, dtype: int64>"
      ]
     },
     "execution_count": 8,
     "metadata": {},
     "output_type": "execute_result"
    }
   ],
   "source": [
    "y.head"
   ]
  },
  {
   "cell_type": "code",
   "execution_count": 9,
   "metadata": {},
   "outputs": [
    {
     "data": {
      "text/plain": [
       "(350, 4)"
      ]
     },
     "execution_count": 9,
     "metadata": {},
     "output_type": "execute_result"
    }
   ],
   "source": [
    "df.shape"
   ]
  },
  {
   "cell_type": "code",
   "execution_count": 10,
   "metadata": {},
   "outputs": [],
   "source": [
    "df = df.dropna()"
   ]
  },
  {
   "cell_type": "code",
   "execution_count": 11,
   "metadata": {},
   "outputs": [
    {
     "data": {
      "text/plain": [
       "(349, 4)"
      ]
     },
     "execution_count": 11,
     "metadata": {},
     "output_type": "execute_result"
    }
   ],
   "source": [
    "df.shape"
   ]
  },
  {
   "cell_type": "code",
   "execution_count": 12,
   "metadata": {
    "scrolled": true
   },
   "outputs": [
    {
     "data": {
      "text/html": [
       "<div>\n",
       "<style scoped>\n",
       "    .dataframe tbody tr th:only-of-type {\n",
       "        vertical-align: middle;\n",
       "    }\n",
       "\n",
       "    .dataframe tbody tr th {\n",
       "        vertical-align: top;\n",
       "    }\n",
       "\n",
       "    .dataframe thead th {\n",
       "        text-align: right;\n",
       "    }\n",
       "</style>\n",
       "<table border=\"1\" class=\"dataframe\">\n",
       "  <thead>\n",
       "    <tr style=\"text-align: right;\">\n",
       "      <th></th>\n",
       "      <th>sl no</th>\n",
       "      <th>headline</th>\n",
       "      <th>body</th>\n",
       "      <th>label</th>\n",
       "    </tr>\n",
       "  </thead>\n",
       "  <tbody>\n",
       "    <tr>\n",
       "      <th>0</th>\n",
       "      <td>1</td>\n",
       "      <td>Concern over rapid rise in COVID-19 cases in S...</td>\n",
       "      <td>There is growing concern that South Africa's h...</td>\n",
       "      <td>1</td>\n",
       "    </tr>\n",
       "    <tr>\n",
       "      <th>1</th>\n",
       "      <td>2</td>\n",
       "      <td>NBA to Trump: Resign or We’ll Never Play Again...</td>\n",
       "      <td>The National Basketball Association recently s...</td>\n",
       "      <td>0</td>\n",
       "    </tr>\n",
       "    <tr>\n",
       "      <th>2</th>\n",
       "      <td>3</td>\n",
       "      <td>COVID-19 No Vaccine Needed, There Is Already A...</td>\n",
       "      <td>Dr. Richard Bartlett, a Dallas MD who previous...</td>\n",
       "      <td>0</td>\n",
       "    </tr>\n",
       "    <tr>\n",
       "      <th>3</th>\n",
       "      <td>4</td>\n",
       "      <td>USA Presidential Candidate Joe Biden Tests Pos...</td>\n",
       "      <td>Joe Biden, the Democratic presidential candida...</td>\n",
       "      <td>0</td>\n",
       "    </tr>\n",
       "    <tr>\n",
       "      <th>4</th>\n",
       "      <td>5</td>\n",
       "      <td>All Test Subjects of Bill Gates’ Vaccine Ended...</td>\n",
       "      <td>What could possibly go wrong with fast-trackin...</td>\n",
       "      <td>0</td>\n",
       "    </tr>\n",
       "    <tr>\n",
       "      <th>...</th>\n",
       "      <td>...</td>\n",
       "      <td>...</td>\n",
       "      <td>...</td>\n",
       "      <td>...</td>\n",
       "    </tr>\n",
       "    <tr>\n",
       "      <th>345</th>\n",
       "      <td>346</td>\n",
       "      <td>Ethiopia’s COVID-19 cases surpass 27,000</td>\n",
       "      <td>Ethiopia’s confirmed COVID-19 cases reached 27...</td>\n",
       "      <td>1</td>\n",
       "    </tr>\n",
       "    <tr>\n",
       "      <th>346</th>\n",
       "      <td>347</td>\n",
       "      <td>Hair Weave and Lace Front Made In China May Co...</td>\n",
       "      <td>It may be time to show us what your scalp and ...</td>\n",
       "      <td>0</td>\n",
       "    </tr>\n",
       "    <tr>\n",
       "      <th>347</th>\n",
       "      <td>348</td>\n",
       "      <td>Governor of Venezuela's capital district, key ...</td>\n",
       "      <td>Dario Vivas, the governor of Venezuela's capit...</td>\n",
       "      <td>1</td>\n",
       "    </tr>\n",
       "    <tr>\n",
       "      <th>348</th>\n",
       "      <td>349</td>\n",
       "      <td>Russia Did Exposes COVID-19 With Scientific Da...</td>\n",
       "      <td>Russia has just released very important data w...</td>\n",
       "      <td>0</td>\n",
       "    </tr>\n",
       "    <tr>\n",
       "      <th>349</th>\n",
       "      <td>350</td>\n",
       "      <td>Cuomo considers banning cigarette sales for si...</td>\n",
       "      <td>Governor Andrew Cuomo is considering a tempora...</td>\n",
       "      <td>0</td>\n",
       "    </tr>\n",
       "  </tbody>\n",
       "</table>\n",
       "<p>349 rows × 4 columns</p>\n",
       "</div>"
      ],
      "text/plain": [
       "     sl no                                           headline  \\\n",
       "0        1  Concern over rapid rise in COVID-19 cases in S...   \n",
       "1        2  NBA to Trump: Resign or We’ll Never Play Again...   \n",
       "2        3  COVID-19 No Vaccine Needed, There Is Already A...   \n",
       "3        4  USA Presidential Candidate Joe Biden Tests Pos...   \n",
       "4        5  All Test Subjects of Bill Gates’ Vaccine Ended...   \n",
       "..     ...                                                ...   \n",
       "345    346           Ethiopia’s COVID-19 cases surpass 27,000   \n",
       "346    347  Hair Weave and Lace Front Made In China May Co...   \n",
       "347    348  Governor of Venezuela's capital district, key ...   \n",
       "348    349  Russia Did Exposes COVID-19 With Scientific Da...   \n",
       "349    350  Cuomo considers banning cigarette sales for si...   \n",
       "\n",
       "                                                  body  label  \n",
       "0    There is growing concern that South Africa's h...      1  \n",
       "1    The National Basketball Association recently s...      0  \n",
       "2    Dr. Richard Bartlett, a Dallas MD who previous...      0  \n",
       "3    Joe Biden, the Democratic presidential candida...      0  \n",
       "4    What could possibly go wrong with fast-trackin...      0  \n",
       "..                                                 ...    ...  \n",
       "345  Ethiopia’s confirmed COVID-19 cases reached 27...      1  \n",
       "346  It may be time to show us what your scalp and ...      0  \n",
       "347  Dario Vivas, the governor of Venezuela's capit...      1  \n",
       "348  Russia has just released very important data w...      0  \n",
       "349  Governor Andrew Cuomo is considering a tempora...      0  \n",
       "\n",
       "[349 rows x 4 columns]"
      ]
     },
     "execution_count": 12,
     "metadata": {},
     "output_type": "execute_result"
    }
   ],
   "source": [
    "df"
   ]
  },
  {
   "cell_type": "code",
   "execution_count": 13,
   "metadata": {},
   "outputs": [],
   "source": [
    "messages=df.copy()"
   ]
  },
  {
   "cell_type": "code",
   "execution_count": 14,
   "metadata": {},
   "outputs": [],
   "source": [
    "messages.reset_index(inplace=True)"
   ]
  },
  {
   "cell_type": "code",
   "execution_count": 15,
   "metadata": {
    "scrolled": true
   },
   "outputs": [
    {
     "data": {
      "text/html": [
       "<div>\n",
       "<style scoped>\n",
       "    .dataframe tbody tr th:only-of-type {\n",
       "        vertical-align: middle;\n",
       "    }\n",
       "\n",
       "    .dataframe tbody tr th {\n",
       "        vertical-align: top;\n",
       "    }\n",
       "\n",
       "    .dataframe thead th {\n",
       "        text-align: right;\n",
       "    }\n",
       "</style>\n",
       "<table border=\"1\" class=\"dataframe\">\n",
       "  <thead>\n",
       "    <tr style=\"text-align: right;\">\n",
       "      <th></th>\n",
       "      <th>index</th>\n",
       "      <th>sl no</th>\n",
       "      <th>headline</th>\n",
       "      <th>body</th>\n",
       "      <th>label</th>\n",
       "    </tr>\n",
       "  </thead>\n",
       "  <tbody>\n",
       "    <tr>\n",
       "      <th>0</th>\n",
       "      <td>0</td>\n",
       "      <td>1</td>\n",
       "      <td>Concern over rapid rise in COVID-19 cases in S...</td>\n",
       "      <td>There is growing concern that South Africa's h...</td>\n",
       "      <td>1</td>\n",
       "    </tr>\n",
       "    <tr>\n",
       "      <th>1</th>\n",
       "      <td>1</td>\n",
       "      <td>2</td>\n",
       "      <td>NBA to Trump: Resign or We’ll Never Play Again...</td>\n",
       "      <td>The National Basketball Association recently s...</td>\n",
       "      <td>0</td>\n",
       "    </tr>\n",
       "    <tr>\n",
       "      <th>2</th>\n",
       "      <td>2</td>\n",
       "      <td>3</td>\n",
       "      <td>COVID-19 No Vaccine Needed, There Is Already A...</td>\n",
       "      <td>Dr. Richard Bartlett, a Dallas MD who previous...</td>\n",
       "      <td>0</td>\n",
       "    </tr>\n",
       "    <tr>\n",
       "      <th>3</th>\n",
       "      <td>3</td>\n",
       "      <td>4</td>\n",
       "      <td>USA Presidential Candidate Joe Biden Tests Pos...</td>\n",
       "      <td>Joe Biden, the Democratic presidential candida...</td>\n",
       "      <td>0</td>\n",
       "    </tr>\n",
       "    <tr>\n",
       "      <th>4</th>\n",
       "      <td>4</td>\n",
       "      <td>5</td>\n",
       "      <td>All Test Subjects of Bill Gates’ Vaccine Ended...</td>\n",
       "      <td>What could possibly go wrong with fast-trackin...</td>\n",
       "      <td>0</td>\n",
       "    </tr>\n",
       "    <tr>\n",
       "      <th>5</th>\n",
       "      <td>5</td>\n",
       "      <td>6</td>\n",
       "      <td>Cameroon: When Covid-19 Sways Cash-Strapped Ca...</td>\n",
       "      <td>Prior to the onset of the coronavirus pandemic...</td>\n",
       "      <td>1</td>\n",
       "    </tr>\n",
       "    <tr>\n",
       "      <th>6</th>\n",
       "      <td>6</td>\n",
       "      <td>7</td>\n",
       "      <td>BREAKING: Coronavirus Hits 15% Fatality Rate, ...</td>\n",
       "      <td>BREAKING: The U.S. news media is currently run...</td>\n",
       "      <td>0</td>\n",
       "    </tr>\n",
       "    <tr>\n",
       "      <th>7</th>\n",
       "      <td>7</td>\n",
       "      <td>8</td>\n",
       "      <td>Coronavirus in Scotland: Peterhead primary clo...</td>\n",
       "      <td>NHS Grampian said it was working to identify c...</td>\n",
       "      <td>1</td>\n",
       "    </tr>\n",
       "    <tr>\n",
       "      <th>8</th>\n",
       "      <td>8</td>\n",
       "      <td>9</td>\n",
       "      <td>Indonesia deploys 83,566 police, army personne...</td>\n",
       "      <td>Indonesia has deployed 83,566 police and army ...</td>\n",
       "      <td>1</td>\n",
       "    </tr>\n",
       "    <tr>\n",
       "      <th>9</th>\n",
       "      <td>9</td>\n",
       "      <td>10</td>\n",
       "      <td>New Evidence Shows Wearing Face Mask Can Help ...</td>\n",
       "      <td>Dr. Russell Blaylock, a retired U.S. neurosurg...</td>\n",
       "      <td>0</td>\n",
       "    </tr>\n",
       "    <tr>\n",
       "      <th>10</th>\n",
       "      <td>10</td>\n",
       "      <td>11</td>\n",
       "      <td>Good News: Coronavirus Destroyed By Chlorine D...</td>\n",
       "      <td>If you've been following the “Coronavirus Outb...</td>\n",
       "      <td>0</td>\n",
       "    </tr>\n",
       "    <tr>\n",
       "      <th>11</th>\n",
       "      <td>11</td>\n",
       "      <td>12</td>\n",
       "      <td>Hydroxychloroquine is why Uganda, with a popul...</td>\n",
       "      <td>Uganda, a country in east-central Africa, has ...</td>\n",
       "      <td>0</td>\n",
       "    </tr>\n",
       "    <tr>\n",
       "      <th>12</th>\n",
       "      <td>12</td>\n",
       "      <td>13</td>\n",
       "      <td>BILL GATES: THE CATHOLIC RELIGION MAY HAVE TO ...</td>\n",
       "      <td>Ominously, at 17:40 in this Video, Bill Gates ...</td>\n",
       "      <td>0</td>\n",
       "    </tr>\n",
       "    <tr>\n",
       "      <th>13</th>\n",
       "      <td>13</td>\n",
       "      <td>14</td>\n",
       "      <td>Italian Parliamentarian Calls For The Arrest o...</td>\n",
       "      <td>\"If we do a good job with the new vaccines, th...</td>\n",
       "      <td>0</td>\n",
       "    </tr>\n",
       "    <tr>\n",
       "      <th>14</th>\n",
       "      <td>14</td>\n",
       "      <td>15</td>\n",
       "      <td>This is Fraud: 10% of Reported COVID-19 Deaths...</td>\n",
       "      <td>The death rates for COVID are questionable at ...</td>\n",
       "      <td>0</td>\n",
       "    </tr>\n",
       "    <tr>\n",
       "      <th>15</th>\n",
       "      <td>15</td>\n",
       "      <td>16</td>\n",
       "      <td>Pope Francis Tests Positive For Coronavirus, V...</td>\n",
       "      <td>Pope Francis has tested positive for coronavir...</td>\n",
       "      <td>0</td>\n",
       "    </tr>\n",
       "    <tr>\n",
       "      <th>16</th>\n",
       "      <td>16</td>\n",
       "      <td>17</td>\n",
       "      <td>U.K. hospitals struggle as new coronavirus var...</td>\n",
       "      <td>England’s National Health Service is accustome...</td>\n",
       "      <td>1</td>\n",
       "    </tr>\n",
       "    <tr>\n",
       "      <th>17</th>\n",
       "      <td>17</td>\n",
       "      <td>18</td>\n",
       "      <td>Covid19: When will Britons be allowed to visit...</td>\n",
       "      <td>Non-resident UK nationals will not be permitte...</td>\n",
       "      <td>1</td>\n",
       "    </tr>\n",
       "    <tr>\n",
       "      <th>18</th>\n",
       "      <td>18</td>\n",
       "      <td>19</td>\n",
       "      <td>Rwanda reports daily surge in new COVID-19 cas...</td>\n",
       "      <td>Rwanda on Friday reported a daily surge of 93 ...</td>\n",
       "      <td>1</td>\n",
       "    </tr>\n",
       "    <tr>\n",
       "      <th>19</th>\n",
       "      <td>19</td>\n",
       "      <td>20</td>\n",
       "      <td>Merkel warns Germans of a ‘difficult winter’ a...</td>\n",
       "      <td>Chancellor Angela Merkel told lawmakers that G...</td>\n",
       "      <td>1</td>\n",
       "    </tr>\n",
       "    <tr>\n",
       "      <th>20</th>\n",
       "      <td>20</td>\n",
       "      <td>21</td>\n",
       "      <td>Daily reported deaths from Covid-19 top 3,000 ...</td>\n",
       "      <td>The United States for the first time reported ...</td>\n",
       "      <td>1</td>\n",
       "    </tr>\n",
       "    <tr>\n",
       "      <th>21</th>\n",
       "      <td>21</td>\n",
       "      <td>22</td>\n",
       "      <td>Covid-19: UK lockdown, school closures and men...</td>\n",
       "      <td>1. New lockdowns begin in England and Scotland...</td>\n",
       "      <td>1</td>\n",
       "    </tr>\n",
       "    <tr>\n",
       "      <th>22</th>\n",
       "      <td>22</td>\n",
       "      <td>23</td>\n",
       "      <td>Coronavirus: Protein treatment trial 'a breakt...</td>\n",
       "      <td>The preliminary results of a clinical trial su...</td>\n",
       "      <td>1</td>\n",
       "    </tr>\n",
       "    <tr>\n",
       "      <th>23</th>\n",
       "      <td>23</td>\n",
       "      <td>24</td>\n",
       "      <td>A second coronavirus vaccine developed in Indi...</td>\n",
       "      <td>Cadila Healthcare, also known as Zydus Cadila,...</td>\n",
       "      <td>1</td>\n",
       "    </tr>\n",
       "    <tr>\n",
       "      <th>24</th>\n",
       "      <td>24</td>\n",
       "      <td>25</td>\n",
       "      <td>Pakistan's Hafeez to self-isolate after bio-se...</td>\n",
       "      <td>The Pakistan Cricket Board (PCB) said on Wedne...</td>\n",
       "      <td>1</td>\n",
       "    </tr>\n",
       "    <tr>\n",
       "      <th>25</th>\n",
       "      <td>25</td>\n",
       "      <td>26</td>\n",
       "      <td>Britain resists Covid-19 lockdown as Europe co...</td>\n",
       "      <td>France and Germany have imposed controls almos...</td>\n",
       "      <td>1</td>\n",
       "    </tr>\n",
       "    <tr>\n",
       "      <th>26</th>\n",
       "      <td>26</td>\n",
       "      <td>27</td>\n",
       "      <td>US factory activity near 2.5-year high; COVID-...</td>\n",
       "      <td>US factory activity accelerated to its highest...</td>\n",
       "      <td>1</td>\n",
       "    </tr>\n",
       "    <tr>\n",
       "      <th>27</th>\n",
       "      <td>27</td>\n",
       "      <td>28</td>\n",
       "      <td>Indonesia COVID-19 mass vaccinations to begin ...</td>\n",
       "      <td>Indonesia will begin its nationwide COVID-19 m...</td>\n",
       "      <td>1</td>\n",
       "    </tr>\n",
       "    <tr>\n",
       "      <th>28</th>\n",
       "      <td>28</td>\n",
       "      <td>29</td>\n",
       "      <td>COVID-19 cases, deaths spike again in France</td>\n",
       "      <td>The number of new confirmed cases of COVID-19 ...</td>\n",
       "      <td>1</td>\n",
       "    </tr>\n",
       "    <tr>\n",
       "      <th>29</th>\n",
       "      <td>29</td>\n",
       "      <td>30</td>\n",
       "      <td>Africa’s COVID-19 death toll passes 25,000 mar...</td>\n",
       "      <td>The number of confirmed COVID-19 cases in Afri...</td>\n",
       "      <td>1</td>\n",
       "    </tr>\n",
       "    <tr>\n",
       "      <th>30</th>\n",
       "      <td>30</td>\n",
       "      <td>31</td>\n",
       "      <td>Coronavirus: Children can carry larger amounts...</td>\n",
       "      <td>Children can carry larger amounts of the virus...</td>\n",
       "      <td>0</td>\n",
       "    </tr>\n",
       "    <tr>\n",
       "      <th>31</th>\n",
       "      <td>31</td>\n",
       "      <td>32</td>\n",
       "      <td>Pentagon Confirms Coronavirus Accidently Got I...</td>\n",
       "      <td>WASHINGTON, DC – The Pentagon has issued an in...</td>\n",
       "      <td>0</td>\n",
       "    </tr>\n",
       "    <tr>\n",
       "      <th>32</th>\n",
       "      <td>32</td>\n",
       "      <td>33</td>\n",
       "      <td>Companies test antibody drugs to treat, preven...</td>\n",
       "      <td>With a coronavirus vaccine still months off, c...</td>\n",
       "      <td>1</td>\n",
       "    </tr>\n",
       "    <tr>\n",
       "      <th>33</th>\n",
       "      <td>33</td>\n",
       "      <td>34</td>\n",
       "      <td>5 Million Muslim Children In Yemen Died due to...</td>\n",
       "      <td>You have gone through many articles in the pas...</td>\n",
       "      <td>0</td>\n",
       "    </tr>\n",
       "    <tr>\n",
       "      <th>34</th>\n",
       "      <td>34</td>\n",
       "      <td>35</td>\n",
       "      <td>COVID-19 deaths among young and working age La...</td>\n",
       "      <td>\"The virus is falling on the working-age popul...</td>\n",
       "      <td>1</td>\n",
       "    </tr>\n",
       "    <tr>\n",
       "      <th>35</th>\n",
       "      <td>35</td>\n",
       "      <td>36</td>\n",
       "      <td>NIH ADMITS 5G CAN ACTUALLY CREATE CORONAVIRUS ...</td>\n",
       "      <td>‘New generation mobile technology, like 5G, co...</td>\n",
       "      <td>0</td>\n",
       "    </tr>\n",
       "    <tr>\n",
       "      <th>36</th>\n",
       "      <td>36</td>\n",
       "      <td>37</td>\n",
       "      <td>Delays over pricing holds back India’s vital C...</td>\n",
       "      <td>New Delhi and Serum Institute of India have en...</td>\n",
       "      <td>1</td>\n",
       "    </tr>\n",
       "    <tr>\n",
       "      <th>37</th>\n",
       "      <td>37</td>\n",
       "      <td>38</td>\n",
       "      <td>These 12 Graphs Show Mask Mandates Do Nothing ...</td>\n",
       "      <td>No matter how strictly mask laws are enforced ...</td>\n",
       "      <td>0</td>\n",
       "    </tr>\n",
       "    <tr>\n",
       "      <th>38</th>\n",
       "      <td>38</td>\n",
       "      <td>39</td>\n",
       "      <td>First US Covid-19 vaccines could ship late Dec...</td>\n",
       "      <td>Moderna earlier on Thursday said it was on tra...</td>\n",
       "      <td>1</td>\n",
       "    </tr>\n",
       "    <tr>\n",
       "      <th>39</th>\n",
       "      <td>39</td>\n",
       "      <td>40</td>\n",
       "      <td>Covid-19 in France: Minister unveils speeded-u...</td>\n",
       "      <td>Stung by criticism over the slow pace of the c...</td>\n",
       "      <td>1</td>\n",
       "    </tr>\n",
       "  </tbody>\n",
       "</table>\n",
       "</div>"
      ],
      "text/plain": [
       "    index  sl no                                           headline  \\\n",
       "0       0      1  Concern over rapid rise in COVID-19 cases in S...   \n",
       "1       1      2  NBA to Trump: Resign or We’ll Never Play Again...   \n",
       "2       2      3  COVID-19 No Vaccine Needed, There Is Already A...   \n",
       "3       3      4  USA Presidential Candidate Joe Biden Tests Pos...   \n",
       "4       4      5  All Test Subjects of Bill Gates’ Vaccine Ended...   \n",
       "5       5      6  Cameroon: When Covid-19 Sways Cash-Strapped Ca...   \n",
       "6       6      7  BREAKING: Coronavirus Hits 15% Fatality Rate, ...   \n",
       "7       7      8  Coronavirus in Scotland: Peterhead primary clo...   \n",
       "8       8      9  Indonesia deploys 83,566 police, army personne...   \n",
       "9       9     10  New Evidence Shows Wearing Face Mask Can Help ...   \n",
       "10     10     11  Good News: Coronavirus Destroyed By Chlorine D...   \n",
       "11     11     12  Hydroxychloroquine is why Uganda, with a popul...   \n",
       "12     12     13  BILL GATES: THE CATHOLIC RELIGION MAY HAVE TO ...   \n",
       "13     13     14  Italian Parliamentarian Calls For The Arrest o...   \n",
       "14     14     15  This is Fraud: 10% of Reported COVID-19 Deaths...   \n",
       "15     15     16  Pope Francis Tests Positive For Coronavirus, V...   \n",
       "16     16     17  U.K. hospitals struggle as new coronavirus var...   \n",
       "17     17     18  Covid19: When will Britons be allowed to visit...   \n",
       "18     18     19  Rwanda reports daily surge in new COVID-19 cas...   \n",
       "19     19     20  Merkel warns Germans of a ‘difficult winter’ a...   \n",
       "20     20     21  Daily reported deaths from Covid-19 top 3,000 ...   \n",
       "21     21     22  Covid-19: UK lockdown, school closures and men...   \n",
       "22     22     23  Coronavirus: Protein treatment trial 'a breakt...   \n",
       "23     23     24  A second coronavirus vaccine developed in Indi...   \n",
       "24     24     25  Pakistan's Hafeez to self-isolate after bio-se...   \n",
       "25     25     26  Britain resists Covid-19 lockdown as Europe co...   \n",
       "26     26     27  US factory activity near 2.5-year high; COVID-...   \n",
       "27     27     28  Indonesia COVID-19 mass vaccinations to begin ...   \n",
       "28     28     29       COVID-19 cases, deaths spike again in France   \n",
       "29     29     30  Africa’s COVID-19 death toll passes 25,000 mar...   \n",
       "30     30     31  Coronavirus: Children can carry larger amounts...   \n",
       "31     31     32  Pentagon Confirms Coronavirus Accidently Got I...   \n",
       "32     32     33  Companies test antibody drugs to treat, preven...   \n",
       "33     33     34  5 Million Muslim Children In Yemen Died due to...   \n",
       "34     34     35  COVID-19 deaths among young and working age La...   \n",
       "35     35     36  NIH ADMITS 5G CAN ACTUALLY CREATE CORONAVIRUS ...   \n",
       "36     36     37  Delays over pricing holds back India’s vital C...   \n",
       "37     37     38  These 12 Graphs Show Mask Mandates Do Nothing ...   \n",
       "38     38     39  First US Covid-19 vaccines could ship late Dec...   \n",
       "39     39     40  Covid-19 in France: Minister unveils speeded-u...   \n",
       "\n",
       "                                                 body  label  \n",
       "0   There is growing concern that South Africa's h...      1  \n",
       "1   The National Basketball Association recently s...      0  \n",
       "2   Dr. Richard Bartlett, a Dallas MD who previous...      0  \n",
       "3   Joe Biden, the Democratic presidential candida...      0  \n",
       "4   What could possibly go wrong with fast-trackin...      0  \n",
       "5   Prior to the onset of the coronavirus pandemic...      1  \n",
       "6   BREAKING: The U.S. news media is currently run...      0  \n",
       "7   NHS Grampian said it was working to identify c...      1  \n",
       "8   Indonesia has deployed 83,566 police and army ...      1  \n",
       "9   Dr. Russell Blaylock, a retired U.S. neurosurg...      0  \n",
       "10  If you've been following the “Coronavirus Outb...      0  \n",
       "11  Uganda, a country in east-central Africa, has ...      0  \n",
       "12  Ominously, at 17:40 in this Video, Bill Gates ...      0  \n",
       "13  \"If we do a good job with the new vaccines, th...      0  \n",
       "14  The death rates for COVID are questionable at ...      0  \n",
       "15  Pope Francis has tested positive for coronavir...      0  \n",
       "16  England’s National Health Service is accustome...      1  \n",
       "17  Non-resident UK nationals will not be permitte...      1  \n",
       "18  Rwanda on Friday reported a daily surge of 93 ...      1  \n",
       "19  Chancellor Angela Merkel told lawmakers that G...      1  \n",
       "20  The United States for the first time reported ...      1  \n",
       "21  1. New lockdowns begin in England and Scotland...      1  \n",
       "22  The preliminary results of a clinical trial su...      1  \n",
       "23  Cadila Healthcare, also known as Zydus Cadila,...      1  \n",
       "24  The Pakistan Cricket Board (PCB) said on Wedne...      1  \n",
       "25  France and Germany have imposed controls almos...      1  \n",
       "26  US factory activity accelerated to its highest...      1  \n",
       "27  Indonesia will begin its nationwide COVID-19 m...      1  \n",
       "28  The number of new confirmed cases of COVID-19 ...      1  \n",
       "29  The number of confirmed COVID-19 cases in Afri...      1  \n",
       "30  Children can carry larger amounts of the virus...      0  \n",
       "31  WASHINGTON, DC – The Pentagon has issued an in...      0  \n",
       "32  With a coronavirus vaccine still months off, c...      1  \n",
       "33  You have gone through many articles in the pas...      0  \n",
       "34  \"The virus is falling on the working-age popul...      1  \n",
       "35  ‘New generation mobile technology, like 5G, co...      0  \n",
       "36  New Delhi and Serum Institute of India have en...      1  \n",
       "37  No matter how strictly mask laws are enforced ...      0  \n",
       "38  Moderna earlier on Thursday said it was on tra...      1  \n",
       "39  Stung by criticism over the slow pace of the c...      1  "
      ]
     },
     "execution_count": 15,
     "metadata": {},
     "output_type": "execute_result"
    }
   ],
   "source": [
    "messages.head(40)"
   ]
  },
  {
   "cell_type": "code",
   "execution_count": 16,
   "metadata": {},
   "outputs": [],
   "source": [
    "y=messages['label']"
   ]
  },
  {
   "cell_type": "markdown",
   "metadata": {},
   "source": [
    "# Joining the headline and body"
   ]
  },
  {
   "cell_type": "code",
   "execution_count": 17,
   "metadata": {},
   "outputs": [
    {
     "data": {
      "text/plain": [
       "0     Concern over rapid rise in COVID-19 cases in S...\n",
       "1     NBA to Trump: Resign or We’ll Never Play Again...\n",
       "2     COVID-19 No Vaccine Needed, There Is Already A...\n",
       "3     USA Presidential Candidate Joe Biden Tests Pos...\n",
       "4     All Test Subjects of Bill Gates’ Vaccine Ended...\n",
       "5     Cameroon: When Covid-19 Sways Cash-Strapped Ca...\n",
       "6     BREAKING: Coronavirus Hits 15% Fatality Rate, ...\n",
       "7     Coronavirus in Scotland: Peterhead primary clo...\n",
       "8     Indonesia deploys 83,566 police, army personne...\n",
       "9     New Evidence Shows Wearing Face Mask Can Help ...\n",
       "10    Good News: Coronavirus Destroyed By Chlorine D...\n",
       "11    Hydroxychloroquine is why Uganda, with a popul...\n",
       "12    BILL GATES: THE CATHOLIC RELIGION MAY HAVE TO ...\n",
       "13    Italian Parliamentarian Calls For The Arrest o...\n",
       "14    This is Fraud: 10% of Reported COVID-19 Deaths...\n",
       "15    Pope Francis Tests Positive For Coronavirus, V...\n",
       "16    U.K. hospitals struggle as new coronavirus var...\n",
       "17    Covid19: When will Britons be allowed to visit...\n",
       "18    Rwanda reports daily surge in new COVID-19 cas...\n",
       "19    Merkel warns Germans of a ‘difficult winter’ a...\n",
       "20    Daily reported deaths from Covid-19 top 3,000 ...\n",
       "21    Covid-19: UK lockdown, school closures and men...\n",
       "22    Coronavirus: Protein treatment trial 'a breakt...\n",
       "23    A second coronavirus vaccine developed in Indi...\n",
       "24    Pakistan's Hafeez to self-isolate after bio-se...\n",
       "25    Britain resists Covid-19 lockdown as Europe co...\n",
       "26    US factory activity near 2.5-year high; COVID-...\n",
       "27    Indonesia COVID-19 mass vaccinations to begin ...\n",
       "28    COVID-19 cases, deaths spike again in France T...\n",
       "29    Africa’s COVID-19 death toll passes 25,000 mar...\n",
       "30    Coronavirus: Children can carry larger amounts...\n",
       "31    Pentagon Confirms Coronavirus Accidently Got I...\n",
       "32    Companies test antibody drugs to treat, preven...\n",
       "33    5 Million Muslim Children In Yemen Died due to...\n",
       "34    COVID-19 deaths among young and working age La...\n",
       "35    NIH ADMITS 5G CAN ACTUALLY CREATE CORONAVIRUS ...\n",
       "36    Delays over pricing holds back India’s vital C...\n",
       "37    These 12 Graphs Show Mask Mandates Do Nothing ...\n",
       "38    First US Covid-19 vaccines could ship late Dec...\n",
       "39    Covid-19 in France: Minister unveils speeded-u...\n",
       "dtype: object"
      ]
     },
     "execution_count": 17,
     "metadata": {},
     "output_type": "execute_result"
    }
   ],
   "source": [
    "messages = messages.headline+str(' ')+messages.body\n",
    "#messages = messages.title+str(' ')+messages.text\n",
    "messages.head(40)"
   ]
  },
  {
   "cell_type": "markdown",
   "metadata": {},
   "source": [
    "# Data Pre Processing"
   ]
  },
  {
   "cell_type": "code",
   "execution_count": 18,
   "metadata": {},
   "outputs": [
    {
     "name": "stderr",
     "output_type": "stream",
     "text": [
      "[nltk_data] Downloading package stopwords to\n",
      "[nltk_data]     C:\\Users\\User\\AppData\\Roaming\\nltk_data...\n",
      "[nltk_data]   Package stopwords is already up-to-date!\n"
     ]
    }
   ],
   "source": [
    "import nltk\n",
    "nltk.download('stopwords')\n",
    "from nltk.corpus import stopwords\n",
    "from nltk.stem.porter import PorterStemmer\n",
    "import re\n",
    "ps = PorterStemmer()\n",
    "corpus = []\n",
    "for i in range(0, len(messages)):\n",
    "    review = re.sub('[^a-zA-Z]', ' ', messages[i])\n",
    "    review = review.lower()\n",
    "    review = review.split()\n",
    "    review = [ps.stem(word) for word in review if not word in stopwords.words('english')]\n",
    "    review = ' '.join(review)\n",
    "    corpus.append(review)"
   ]
  },
  {
   "cell_type": "code",
   "execution_count": 19,
   "metadata": {},
   "outputs": [
    {
     "name": "stdout",
     "output_type": "stream",
     "text": [
      "['i', 'me', 'my', 'myself', 'we', 'our', 'ours', 'ourselves', 'you', \"you're\", \"you've\", \"you'll\", \"you'd\", 'your', 'yours', 'yourself', 'yourselves', 'he', 'him', 'his', 'himself', 'she', \"she's\", 'her', 'hers', 'herself', 'it', \"it's\", 'its', 'itself', 'they', 'them', 'their', 'theirs', 'themselves', 'what', 'which', 'who', 'whom', 'this', 'that', \"that'll\", 'these', 'those', 'am', 'is', 'are', 'was', 'were', 'be', 'been', 'being', 'have', 'has', 'had', 'having', 'do', 'does', 'did', 'doing', 'a', 'an', 'the', 'and', 'but', 'if', 'or', 'because', 'as', 'until', 'while', 'of', 'at', 'by', 'for', 'with', 'about', 'against', 'between', 'into', 'through', 'during', 'before', 'after', 'above', 'below', 'to', 'from', 'up', 'down', 'in', 'out', 'on', 'off', 'over', 'under', 'again', 'further', 'then', 'once', 'here', 'there', 'when', 'where', 'why', 'how', 'all', 'any', 'both', 'each', 'few', 'more', 'most', 'other', 'some', 'such', 'no', 'nor', 'not', 'only', 'own', 'same', 'so', 'than', 'too', 'very', 's', 't', 'can', 'will', 'just', 'don', \"don't\", 'should', \"should've\", 'now', 'd', 'll', 'm', 'o', 're', 've', 'y', 'ain', 'aren', \"aren't\", 'couldn', \"couldn't\", 'didn', \"didn't\", 'doesn', \"doesn't\", 'hadn', \"hadn't\", 'hasn', \"hasn't\", 'haven', \"haven't\", 'isn', \"isn't\", 'ma', 'mightn', \"mightn't\", 'mustn', \"mustn't\", 'needn', \"needn't\", 'shan', \"shan't\", 'shouldn', \"shouldn't\", 'wasn', \"wasn't\", 'weren', \"weren't\", 'won', \"won't\", 'wouldn', \"wouldn't\"]\n"
     ]
    }
   ],
   "source": [
    "print(stopwords.words('english'))"
   ]
  },
  {
   "cell_type": "code",
   "execution_count": 20,
   "metadata": {},
   "outputs": [
    {
     "data": {
      "text/plain": [
       "'covid briton allow visit franc non resid uk nation permit enter eu brexit even urgent famili reason countri coronaviru case significantli reduc non french peopl longer enter franc uk januari except resid foreign return home limit case due eu mass ban non eu countri coronaviru pandem visitor australia rwanda new zealand china reciproc south korea singapor thailand japan current allow enter eu countri deem viru control measur follow separ hour travel ban franc impos uk new strain covid uk leav european area januari brexit treat non eu countri american abl visit franc sinc march british visitor includ second home owner abl come last year transit period'"
      ]
     },
     "execution_count": 20,
     "metadata": {},
     "output_type": "execute_result"
    }
   ],
   "source": [
    "corpus[17]"
   ]
  },
  {
   "cell_type": "markdown",
   "metadata": {},
   "source": [
    "# Applying Countvectorizer\n"
   ]
  },
  {
   "cell_type": "code",
   "execution_count": 21,
   "metadata": {},
   "outputs": [],
   "source": [
    "from sklearn.feature_extraction.text import CountVectorizer\n",
    "cv = CountVectorizer(max_features=5000,ngram_range=(1,3))\n",
    "X = cv.fit_transform(corpus).toarray()"
   ]
  },
  {
   "cell_type": "code",
   "execution_count": 22,
   "metadata": {},
   "outputs": [
    {
     "data": {
      "text/plain": [
       "(349, 5000)"
      ]
     },
     "execution_count": 22,
     "metadata": {},
     "output_type": "execute_result"
    }
   ],
   "source": [
    "X.shape"
   ]
  },
  {
   "cell_type": "code",
   "execution_count": 23,
   "metadata": {},
   "outputs": [
    {
     "data": {
      "text/plain": [
       "(349,)"
      ]
     },
     "execution_count": 23,
     "metadata": {},
     "output_type": "execute_result"
    }
   ],
   "source": [
    "y.shape"
   ]
  },
  {
   "cell_type": "markdown",
   "metadata": {},
   "source": [
    "# Divide the dataset into Train and Test"
   ]
  },
  {
   "cell_type": "code",
   "execution_count": 24,
   "metadata": {},
   "outputs": [],
   "source": [
    "from sklearn.model_selection import train_test_split\n",
    "X_train, X_test, y_train, y_test = train_test_split(X, y, test_size=0.33, random_state=0, shuffle=True)"
   ]
  },
  {
   "cell_type": "code",
   "execution_count": 25,
   "metadata": {},
   "outputs": [
    {
     "data": {
      "text/plain": [
       "(233, 5000)"
      ]
     },
     "execution_count": 25,
     "metadata": {},
     "output_type": "execute_result"
    }
   ],
   "source": [
    "X_train.shape"
   ]
  },
  {
   "cell_type": "code",
   "execution_count": 26,
   "metadata": {},
   "outputs": [
    {
     "data": {
      "text/plain": [
       "(116, 5000)"
      ]
     },
     "execution_count": 26,
     "metadata": {},
     "output_type": "execute_result"
    }
   ],
   "source": [
    "X_test.shape"
   ]
  },
  {
   "cell_type": "code",
   "execution_count": 27,
   "metadata": {},
   "outputs": [
    {
     "data": {
      "text/plain": [
       "(116,)"
      ]
     },
     "execution_count": 27,
     "metadata": {},
     "output_type": "execute_result"
    }
   ],
   "source": [
    "y_test.shape"
   ]
  },
  {
   "cell_type": "code",
   "execution_count": 28,
   "metadata": {},
   "outputs": [
    {
     "data": {
      "text/plain": [
       "(233,)"
      ]
     },
     "execution_count": 28,
     "metadata": {},
     "output_type": "execute_result"
    }
   ],
   "source": [
    "y_train.shape"
   ]
  },
  {
   "cell_type": "code",
   "execution_count": 29,
   "metadata": {},
   "outputs": [
    {
     "data": {
      "text/plain": [
       "['acceler',\n",
       " 'accept',\n",
       " 'access',\n",
       " 'accident',\n",
       " 'accommod',\n",
       " 'accompani',\n",
       " 'accord',\n",
       " 'accord cdc',\n",
       " 'accord data',\n",
       " 'accord govern']"
      ]
     },
     "execution_count": 29,
     "metadata": {},
     "output_type": "execute_result"
    }
   ],
   "source": [
    "cv.get_feature_names()[10:20]"
   ]
  },
  {
   "cell_type": "code",
   "execution_count": 30,
   "metadata": {},
   "outputs": [
    {
     "data": {
      "text/plain": [
       "{'analyzer': 'word',\n",
       " 'binary': False,\n",
       " 'decode_error': 'strict',\n",
       " 'dtype': numpy.int64,\n",
       " 'encoding': 'utf-8',\n",
       " 'input': 'content',\n",
       " 'lowercase': True,\n",
       " 'max_df': 1.0,\n",
       " 'max_features': 5000,\n",
       " 'min_df': 1,\n",
       " 'ngram_range': (1, 3),\n",
       " 'preprocessor': None,\n",
       " 'stop_words': None,\n",
       " 'strip_accents': None,\n",
       " 'token_pattern': '(?u)\\\\b\\\\w\\\\w+\\\\b',\n",
       " 'tokenizer': None,\n",
       " 'vocabulary': None}"
      ]
     },
     "execution_count": 30,
     "metadata": {},
     "output_type": "execute_result"
    }
   ],
   "source": [
    "cv.get_params()"
   ]
  },
  {
   "cell_type": "code",
   "execution_count": 31,
   "metadata": {},
   "outputs": [],
   "source": [
    "count_df = pd.DataFrame(X_train, columns=cv.get_feature_names())"
   ]
  },
  {
   "cell_type": "code",
   "execution_count": 32,
   "metadata": {
    "scrolled": true
   },
   "outputs": [
    {
     "data": {
      "text/html": [
       "<div>\n",
       "<style scoped>\n",
       "    .dataframe tbody tr th:only-of-type {\n",
       "        vertical-align: middle;\n",
       "    }\n",
       "\n",
       "    .dataframe tbody tr th {\n",
       "        vertical-align: top;\n",
       "    }\n",
       "\n",
       "    .dataframe thead th {\n",
       "        text-align: right;\n",
       "    }\n",
       "</style>\n",
       "<table border=\"1\" class=\"dataframe\">\n",
       "  <thead>\n",
       "    <tr style=\"text-align: right;\">\n",
       "      <th></th>\n",
       "      <th>abbott</th>\n",
       "      <th>abil</th>\n",
       "      <th>abl</th>\n",
       "      <th>abort</th>\n",
       "      <th>abroad</th>\n",
       "      <th>absolut</th>\n",
       "      <th>abstract</th>\n",
       "      <th>abus</th>\n",
       "      <th>academ</th>\n",
       "      <th>academi</th>\n",
       "      <th>...</th>\n",
       "      <th>youngster</th>\n",
       "      <th>youth</th>\n",
       "      <th>youth day</th>\n",
       "      <th>youtub</th>\n",
       "      <th>zambia</th>\n",
       "      <th>zambian</th>\n",
       "      <th>zealand</th>\n",
       "      <th>zero</th>\n",
       "      <th>zinc</th>\n",
       "      <th>zucker</th>\n",
       "    </tr>\n",
       "  </thead>\n",
       "  <tbody>\n",
       "    <tr>\n",
       "      <th>0</th>\n",
       "      <td>0</td>\n",
       "      <td>0</td>\n",
       "      <td>0</td>\n",
       "      <td>0</td>\n",
       "      <td>0</td>\n",
       "      <td>0</td>\n",
       "      <td>0</td>\n",
       "      <td>0</td>\n",
       "      <td>0</td>\n",
       "      <td>0</td>\n",
       "      <td>...</td>\n",
       "      <td>0</td>\n",
       "      <td>0</td>\n",
       "      <td>0</td>\n",
       "      <td>0</td>\n",
       "      <td>0</td>\n",
       "      <td>0</td>\n",
       "      <td>0</td>\n",
       "      <td>0</td>\n",
       "      <td>0</td>\n",
       "      <td>0</td>\n",
       "    </tr>\n",
       "    <tr>\n",
       "      <th>1</th>\n",
       "      <td>0</td>\n",
       "      <td>0</td>\n",
       "      <td>0</td>\n",
       "      <td>0</td>\n",
       "      <td>0</td>\n",
       "      <td>0</td>\n",
       "      <td>0</td>\n",
       "      <td>0</td>\n",
       "      <td>0</td>\n",
       "      <td>0</td>\n",
       "      <td>...</td>\n",
       "      <td>0</td>\n",
       "      <td>0</td>\n",
       "      <td>0</td>\n",
       "      <td>0</td>\n",
       "      <td>0</td>\n",
       "      <td>0</td>\n",
       "      <td>0</td>\n",
       "      <td>0</td>\n",
       "      <td>0</td>\n",
       "      <td>0</td>\n",
       "    </tr>\n",
       "    <tr>\n",
       "      <th>2</th>\n",
       "      <td>0</td>\n",
       "      <td>0</td>\n",
       "      <td>0</td>\n",
       "      <td>0</td>\n",
       "      <td>0</td>\n",
       "      <td>0</td>\n",
       "      <td>0</td>\n",
       "      <td>0</td>\n",
       "      <td>0</td>\n",
       "      <td>0</td>\n",
       "      <td>...</td>\n",
       "      <td>0</td>\n",
       "      <td>0</td>\n",
       "      <td>0</td>\n",
       "      <td>0</td>\n",
       "      <td>0</td>\n",
       "      <td>0</td>\n",
       "      <td>0</td>\n",
       "      <td>0</td>\n",
       "      <td>0</td>\n",
       "      <td>0</td>\n",
       "    </tr>\n",
       "    <tr>\n",
       "      <th>3</th>\n",
       "      <td>0</td>\n",
       "      <td>0</td>\n",
       "      <td>0</td>\n",
       "      <td>0</td>\n",
       "      <td>0</td>\n",
       "      <td>0</td>\n",
       "      <td>0</td>\n",
       "      <td>0</td>\n",
       "      <td>0</td>\n",
       "      <td>0</td>\n",
       "      <td>...</td>\n",
       "      <td>0</td>\n",
       "      <td>0</td>\n",
       "      <td>0</td>\n",
       "      <td>0</td>\n",
       "      <td>0</td>\n",
       "      <td>0</td>\n",
       "      <td>0</td>\n",
       "      <td>0</td>\n",
       "      <td>0</td>\n",
       "      <td>0</td>\n",
       "    </tr>\n",
       "    <tr>\n",
       "      <th>4</th>\n",
       "      <td>0</td>\n",
       "      <td>0</td>\n",
       "      <td>0</td>\n",
       "      <td>0</td>\n",
       "      <td>0</td>\n",
       "      <td>0</td>\n",
       "      <td>0</td>\n",
       "      <td>0</td>\n",
       "      <td>0</td>\n",
       "      <td>0</td>\n",
       "      <td>...</td>\n",
       "      <td>0</td>\n",
       "      <td>0</td>\n",
       "      <td>0</td>\n",
       "      <td>0</td>\n",
       "      <td>0</td>\n",
       "      <td>0</td>\n",
       "      <td>0</td>\n",
       "      <td>0</td>\n",
       "      <td>0</td>\n",
       "      <td>0</td>\n",
       "    </tr>\n",
       "    <tr>\n",
       "      <th>...</th>\n",
       "      <td>...</td>\n",
       "      <td>...</td>\n",
       "      <td>...</td>\n",
       "      <td>...</td>\n",
       "      <td>...</td>\n",
       "      <td>...</td>\n",
       "      <td>...</td>\n",
       "      <td>...</td>\n",
       "      <td>...</td>\n",
       "      <td>...</td>\n",
       "      <td>...</td>\n",
       "      <td>...</td>\n",
       "      <td>...</td>\n",
       "      <td>...</td>\n",
       "      <td>...</td>\n",
       "      <td>...</td>\n",
       "      <td>...</td>\n",
       "      <td>...</td>\n",
       "      <td>...</td>\n",
       "      <td>...</td>\n",
       "      <td>...</td>\n",
       "    </tr>\n",
       "    <tr>\n",
       "      <th>228</th>\n",
       "      <td>0</td>\n",
       "      <td>0</td>\n",
       "      <td>0</td>\n",
       "      <td>0</td>\n",
       "      <td>0</td>\n",
       "      <td>0</td>\n",
       "      <td>0</td>\n",
       "      <td>0</td>\n",
       "      <td>0</td>\n",
       "      <td>0</td>\n",
       "      <td>...</td>\n",
       "      <td>0</td>\n",
       "      <td>0</td>\n",
       "      <td>0</td>\n",
       "      <td>0</td>\n",
       "      <td>0</td>\n",
       "      <td>0</td>\n",
       "      <td>0</td>\n",
       "      <td>0</td>\n",
       "      <td>0</td>\n",
       "      <td>0</td>\n",
       "    </tr>\n",
       "    <tr>\n",
       "      <th>229</th>\n",
       "      <td>0</td>\n",
       "      <td>0</td>\n",
       "      <td>0</td>\n",
       "      <td>0</td>\n",
       "      <td>0</td>\n",
       "      <td>0</td>\n",
       "      <td>0</td>\n",
       "      <td>0</td>\n",
       "      <td>0</td>\n",
       "      <td>0</td>\n",
       "      <td>...</td>\n",
       "      <td>0</td>\n",
       "      <td>0</td>\n",
       "      <td>0</td>\n",
       "      <td>0</td>\n",
       "      <td>0</td>\n",
       "      <td>0</td>\n",
       "      <td>0</td>\n",
       "      <td>0</td>\n",
       "      <td>0</td>\n",
       "      <td>0</td>\n",
       "    </tr>\n",
       "    <tr>\n",
       "      <th>230</th>\n",
       "      <td>0</td>\n",
       "      <td>0</td>\n",
       "      <td>0</td>\n",
       "      <td>0</td>\n",
       "      <td>0</td>\n",
       "      <td>0</td>\n",
       "      <td>0</td>\n",
       "      <td>0</td>\n",
       "      <td>0</td>\n",
       "      <td>0</td>\n",
       "      <td>...</td>\n",
       "      <td>0</td>\n",
       "      <td>0</td>\n",
       "      <td>0</td>\n",
       "      <td>0</td>\n",
       "      <td>0</td>\n",
       "      <td>0</td>\n",
       "      <td>0</td>\n",
       "      <td>0</td>\n",
       "      <td>0</td>\n",
       "      <td>0</td>\n",
       "    </tr>\n",
       "    <tr>\n",
       "      <th>231</th>\n",
       "      <td>0</td>\n",
       "      <td>1</td>\n",
       "      <td>0</td>\n",
       "      <td>0</td>\n",
       "      <td>0</td>\n",
       "      <td>0</td>\n",
       "      <td>0</td>\n",
       "      <td>0</td>\n",
       "      <td>0</td>\n",
       "      <td>0</td>\n",
       "      <td>...</td>\n",
       "      <td>0</td>\n",
       "      <td>0</td>\n",
       "      <td>0</td>\n",
       "      <td>0</td>\n",
       "      <td>0</td>\n",
       "      <td>0</td>\n",
       "      <td>0</td>\n",
       "      <td>0</td>\n",
       "      <td>0</td>\n",
       "      <td>0</td>\n",
       "    </tr>\n",
       "    <tr>\n",
       "      <th>232</th>\n",
       "      <td>0</td>\n",
       "      <td>0</td>\n",
       "      <td>0</td>\n",
       "      <td>0</td>\n",
       "      <td>0</td>\n",
       "      <td>0</td>\n",
       "      <td>0</td>\n",
       "      <td>0</td>\n",
       "      <td>0</td>\n",
       "      <td>0</td>\n",
       "      <td>...</td>\n",
       "      <td>0</td>\n",
       "      <td>0</td>\n",
       "      <td>0</td>\n",
       "      <td>0</td>\n",
       "      <td>0</td>\n",
       "      <td>0</td>\n",
       "      <td>0</td>\n",
       "      <td>0</td>\n",
       "      <td>0</td>\n",
       "      <td>0</td>\n",
       "    </tr>\n",
       "  </tbody>\n",
       "</table>\n",
       "<p>233 rows × 5000 columns</p>\n",
       "</div>"
      ],
      "text/plain": [
       "     abbott  abil  abl  abort  abroad  absolut  abstract  abus  academ  \\\n",
       "0         0     0    0      0       0        0         0     0       0   \n",
       "1         0     0    0      0       0        0         0     0       0   \n",
       "2         0     0    0      0       0        0         0     0       0   \n",
       "3         0     0    0      0       0        0         0     0       0   \n",
       "4         0     0    0      0       0        0         0     0       0   \n",
       "..      ...   ...  ...    ...     ...      ...       ...   ...     ...   \n",
       "228       0     0    0      0       0        0         0     0       0   \n",
       "229       0     0    0      0       0        0         0     0       0   \n",
       "230       0     0    0      0       0        0         0     0       0   \n",
       "231       0     1    0      0       0        0         0     0       0   \n",
       "232       0     0    0      0       0        0         0     0       0   \n",
       "\n",
       "     academi  ...  youngster  youth  youth day  youtub  zambia  zambian  \\\n",
       "0          0  ...          0      0          0       0       0        0   \n",
       "1          0  ...          0      0          0       0       0        0   \n",
       "2          0  ...          0      0          0       0       0        0   \n",
       "3          0  ...          0      0          0       0       0        0   \n",
       "4          0  ...          0      0          0       0       0        0   \n",
       "..       ...  ...        ...    ...        ...     ...     ...      ...   \n",
       "228        0  ...          0      0          0       0       0        0   \n",
       "229        0  ...          0      0          0       0       0        0   \n",
       "230        0  ...          0      0          0       0       0        0   \n",
       "231        0  ...          0      0          0       0       0        0   \n",
       "232        0  ...          0      0          0       0       0        0   \n",
       "\n",
       "     zealand  zero  zinc  zucker  \n",
       "0          0     0     0       0  \n",
       "1          0     0     0       0  \n",
       "2          0     0     0       0  \n",
       "3          0     0     0       0  \n",
       "4          0     0     0       0  \n",
       "..       ...   ...   ...     ...  \n",
       "228        0     0     0       0  \n",
       "229        0     0     0       0  \n",
       "230        0     0     0       0  \n",
       "231        0     0     0       0  \n",
       "232        0     0     0       0  \n",
       "\n",
       "[233 rows x 5000 columns]"
      ]
     },
     "execution_count": 32,
     "metadata": {},
     "output_type": "execute_result"
    }
   ],
   "source": [
    "count_df"
   ]
  },
  {
   "cell_type": "markdown",
   "metadata": {},
   "source": [
    "# Confusion matrix"
   ]
  },
  {
   "cell_type": "code",
   "execution_count": 33,
   "metadata": {},
   "outputs": [],
   "source": [
    "import matplotlib.pyplot as plt"
   ]
  },
  {
   "cell_type": "code",
   "execution_count": 34,
   "metadata": {},
   "outputs": [],
   "source": [
    "def plot_confusion_matrix(cm, classes,\n",
    "                          normalize=False,\n",
    "                          title='Confusion matrix',\n",
    "                          cmap=plt.cm.Greens):\n",
    "    \n",
    "    plt.imshow(cm, interpolation='nearest', cmap=cmap)\n",
    "    plt.title(title)\n",
    "    plt.colorbar()\n",
    "    tick_marks = np.arange(len(classes))\n",
    "    plt.xticks(tick_marks, classes, rotation=45)\n",
    "    plt.yticks(tick_marks, classes)\n",
    "\n",
    "    if normalize:\n",
    "        cm = cm.astype('float') / cm.sum(axis=1)[:, np.newaxis]\n",
    "        print(\"Normalized confusion matrix\")\n",
    "    else:\n",
    "        print('Confusion matrix, without normalization')\n",
    "\n",
    "    thresh = cm.max() / 2.\n",
    "    for i, j in itertools.product(range(cm.shape[0]), range(cm.shape[1])):\n",
    "        plt.text(j, i, cm[i, j],\n",
    "                 horizontalalignment=\"center\",\n",
    "                 color=\"white\" if cm[i, j] > thresh else \"black\")\n",
    "\n",
    "    plt.tight_layout()\n",
    "    plt.ylabel('True label')\n",
    "    plt.xlabel('Predicted label')"
   ]
  },
  {
   "cell_type": "markdown",
   "metadata": {},
   "source": [
    "# MultinomialNB Algorithm"
   ]
  },
  {
   "cell_type": "code",
   "execution_count": 35,
   "metadata": {},
   "outputs": [],
   "source": [
    "from sklearn.naive_bayes import MultinomialNB\n",
    "classifier = MultinomialNB()"
   ]
  },
  {
   "cell_type": "code",
   "execution_count": 36,
   "metadata": {},
   "outputs": [
    {
     "name": "stdout",
     "output_type": "stream",
     "text": [
      "accuracy:   0.853\n",
      "Confusion matrix, without normalization\n"
     ]
    },
    {
     "data": {
      "image/png": "[encoded data removed]",
      "text/plain": [
       "<Figure size 432x288 with 2 Axes>"
      ]
     },
     "metadata": {
      "needs_background": "light"
     },
     "output_type": "display_data"
    }
   ],
   "source": [
    "classifier.fit(X_train, y_train)\n",
    "pred = classifier.predict(X_test)\n",
    "score = metrics.accuracy_score(y_test, pred)\n",
    "print(\"accuracy:   %0.3f\" % score) \n",
    "cm = metrics.confusion_matrix(y_test, pred)\n",
    "plot_confusion_matrix(cm, classes=['FAKE Data', 'REAL Data'])"
   ]
  },
  {
   "cell_type": "code",
   "execution_count": 37,
   "metadata": {},
   "outputs": [
    {
     "name": "stdout",
     "output_type": "stream",
     "text": [
      "              precision    recall  f1-score   support\n",
      "\n",
      "           0       0.89      0.77      0.83        53\n",
      "           1       0.83      0.92      0.87        63\n",
      "\n",
      "    accuracy                           0.85       116\n",
      "   macro avg       0.86      0.85      0.85       116\n",
      "weighted avg       0.86      0.85      0.85       116\n",
      "\n"
     ]
    }
   ],
   "source": [
    "print(classification_report(y_test, pred))"
   ]
  },
  {
   "cell_type": "code",
   "execution_count": null,
   "metadata": {},
   "outputs": [],
   "source": []
  },
  {
   "cell_type": "markdown",
   "metadata": {},
   "source": [
    "# Passive Aggressive Classifier Algorithm"
   ]
  },
  {
   "cell_type": "code",
   "execution_count": 38,
   "metadata": {},
   "outputs": [],
   "source": [
    "from sklearn.linear_model import PassiveAggressiveClassifier\n",
    "PAC = PassiveAggressiveClassifier(max_iter=50)"
   ]
  },
  {
   "cell_type": "code",
   "execution_count": 39,
   "metadata": {},
   "outputs": [
    {
     "name": "stdout",
     "output_type": "stream",
     "text": [
      "accuracy:   0.879\n",
      "Confusion matrix, without normalization\n"
     ]
    },
    {
     "data": {
      "image/png": "[encoded data removed]",
      "text/plain": [
       "<Figure size 432x288 with 2 Axes>"
      ]
     },
     "metadata": {
      "needs_background": "light"
     },
     "output_type": "display_data"
    }
   ],
   "source": [
    "PAC.fit(X_train, y_train)\n",
    "pred = PAC.predict(X_test)\n",
    "score = metrics.accuracy_score(y_test, pred)\n",
    "print(\"accuracy:   %0.3f\" % score)\n",
    "cm = metrics.confusion_matrix(y_test, pred)\n",
    "plot_confusion_matrix(cm, classes=['FAKE Data', 'REAL Data'])"
   ]
  },
  {
   "cell_type": "code",
   "execution_count": 40,
   "metadata": {},
   "outputs": [
    {
     "name": "stdout",
     "output_type": "stream",
     "text": [
      "              precision    recall  f1-score   support\n",
      "\n",
      "           0       0.87      0.87      0.87        53\n",
      "           1       0.89      0.89      0.89        63\n",
      "\n",
      "    accuracy                           0.88       116\n",
      "   macro avg       0.88      0.88      0.88       116\n",
      "weighted avg       0.88      0.88      0.88       116\n",
      "\n"
     ]
    }
   ],
   "source": [
    "print(classification_report(y_test, pred))"
   ]
  },
  {
   "cell_type": "markdown",
   "metadata": {},
   "source": [
    "# Logistic Regression"
   ]
  },
  {
   "cell_type": "code",
   "execution_count": 41,
   "metadata": {},
   "outputs": [
    {
     "name": "stdout",
     "output_type": "stream",
     "text": [
      "accuracy:   0.862\n",
      "Confusion matrix, without normalization\n"
     ]
    },
    {
     "data": {
      "image/png": "[encoded data removed]",
      "text/plain": [
       "<Figure size 432x288 with 2 Axes>"
      ]
     },
     "metadata": {
      "needs_background": "light"
     },
     "output_type": "display_data"
    }
   ],
   "source": [
    "from sklearn.linear_model import LogisticRegressionCV\n",
    "\n",
    "lr = LogisticRegressionCV(solver = 'liblinear', ).fit(X_train, y_train)\n",
    "\n",
    "pred = lr.predict(X_test)\n",
    "score = metrics.accuracy_score(y_test, pred)\n",
    "print(\"accuracy:   %0.3f\" % score)\n",
    "cm = metrics.confusion_matrix(y_test, pred)\n",
    "plot_confusion_matrix(cm, classes=['FAKE Data', 'REAL Data'])"
   ]
  },
  {
   "cell_type": "code",
   "execution_count": 42,
   "metadata": {},
   "outputs": [
    {
     "name": "stdout",
     "output_type": "stream",
     "text": [
      "              precision    recall  f1-score   support\n",
      "\n",
      "           0       0.89      0.79      0.84        53\n",
      "           1       0.84      0.92      0.88        63\n",
      "\n",
      "    accuracy                           0.86       116\n",
      "   macro avg       0.87      0.86      0.86       116\n",
      "weighted avg       0.86      0.86      0.86       116\n",
      "\n"
     ]
    }
   ],
   "source": [
    "print(classification_report(y_test, pred))"
   ]
  },
  {
   "cell_type": "markdown",
   "metadata": {},
   "source": [
    "# SVM Classifier"
   ]
  },
  {
   "cell_type": "code",
   "execution_count": 43,
   "metadata": {},
   "outputs": [
    {
     "name": "stdout",
     "output_type": "stream",
     "text": [
      "accuracy:   0.845\n",
      "Confusion matrix, without normalization\n"
     ]
    },
    {
     "data": {
      "image/png": "[encoded data removed]",
      "text/plain": [
       "<Figure size 432x288 with 2 Axes>"
      ]
     },
     "metadata": {
      "needs_background": "light"
     },
     "output_type": "display_data"
    }
   ],
   "source": [
    "from sklearn import svm\n",
    "linear_svm=svm.SVC(kernel='linear')\n",
    "linear_svm.fit(X_train,y_train)\n",
    "pred = linear_svm.predict(X_test)\n",
    "score = metrics.accuracy_score(y_test, pred)\n",
    "SVM = score\n",
    "print(\"accuracy:   %0.3f\" % score)\n",
    "cm = metrics.confusion_matrix(y_test, pred)\n",
    "plot_confusion_matrix(cm, classes=['FAKE Data', 'REAL Data'])"
   ]
  },
  {
   "cell_type": "code",
   "execution_count": 44,
   "metadata": {},
   "outputs": [
    {
     "name": "stdout",
     "output_type": "stream",
     "text": [
      "              precision    recall  f1-score   support\n",
      "\n",
      "           0       0.82      0.85      0.83        53\n",
      "           1       0.87      0.84      0.85        63\n",
      "\n",
      "    accuracy                           0.84       116\n",
      "   macro avg       0.84      0.85      0.84       116\n",
      "weighted avg       0.85      0.84      0.85       116\n",
      "\n"
     ]
    }
   ],
   "source": [
    "print(classification_report(y_test, pred))"
   ]
  },
  {
   "cell_type": "code",
   "execution_count": null,
   "metadata": {},
   "outputs": [],
   "source": []
  },
  {
   "cell_type": "code",
   "execution_count": null,
   "metadata": {},
   "outputs": [],
   "source": []
  },
  {
   "cell_type": "code",
   "execution_count": null,
   "metadata": {},
   "outputs": [],
   "source": []
  }
 ],
 "metadata": {
  "kernelspec": {
   "display_name": "Python 3",
   "language": "python",
   "name": "python3"
  },
  "language_info": {
   "codemirror_mode": {
    "name": "ipython",
    "version": 3
   },
   "file_extension": ".py",
   "mimetype": "text/x-python",
   "name": "python",
   "nbconvert_exporter": "python",
   "pygments_lexer": "ipython3",
   "version": "3.7.7"
  }
 },
 "nbformat": 4,
 "nbformat_minor": 4
}
